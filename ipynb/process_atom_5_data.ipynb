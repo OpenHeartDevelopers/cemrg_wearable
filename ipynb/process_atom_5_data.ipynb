{
 "cells": [
  {
   "cell_type": "code",
   "execution_count": null,
   "metadata": {},
   "outputs": [],
   "source": [
    "import os\n",
    "import matplotlib.pyplot as plt\n",
    "import cemrg_wearable.plot_utils as pltu \n",
    "import cemrg_wearable.common as common \n",
    "\n",
    "data_path = '/media/jsolisle/elements/16_atom_wearable_study/01_analysis'\n",
    "which_date = '2024-05-08'\n",
    "\n",
    "mydict = common.get_name(data_path, 'cemrghealthy', which_date)\n",
    "mypath = mydict['path']\n",
    "# /media/jsolisle/elements/16_atom_wearable_study/01_analysis/cemrghealthy-data-2024-05-08/wearable\n",
    "only_files = [f for f in os.listdir(mypath) if os.path.isfile(os.path.join(mypath, f))]\n",
    "\n",
    "for casenum in range(1,2) :\n",
    "    fig, axs = plt.subplots(1, 5, figsize=(20, 5))\n",
    "\n",
    "    Subject = 'Case{:03d}'.format(casenum)\n",
    "    f=mydict['bpm']\n",
    "    #filein=join(mypath, f)\n",
    "    timestr='TIMESTAMP'\n",
    "    ycol='BEATS PER MINUTE'\n",
    "    pltu.plot_data(os.path.join(mypath, f), timestr, ycol, Subject, axs[0])\n"
   ]
  }
 ],
 "metadata": {
  "kernelspec": {
   "display_name": "cemrg_wearable",
   "language": "python",
   "name": "python3"
  },
  "language_info": {
   "codemirror_mode": {
    "name": "ipython",
    "version": 3
   },
   "file_extension": ".py",
   "mimetype": "text/x-python",
   "name": "python",
   "nbconvert_exporter": "python",
   "pygments_lexer": "ipython3",
   "version": "3.11.9"
  }
 },
 "nbformat": 4,
 "nbformat_minor": 2
}
