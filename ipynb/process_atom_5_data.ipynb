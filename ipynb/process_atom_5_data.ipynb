{
 "cells": [
  {
   "cell_type": "code",
   "execution_count": null,
   "metadata": {},
   "outputs": [],
   "source": [
    "import os\n",
    "import pandas as pd\n",
    "import matplotlib.pyplot as plt\n",
    "import cemrg_wearable.plot_utils as pltu \n",
    "import cemrg_wearable.common as common \n",
    "\n",
    "data_path = '/media/jsolisle/elements/16_atom_wearable_study/01_analysis'\n",
    "which_date = '2024-05-08'\n",
    "\n",
    "mydict = common.get_name(data_path, 'cemrghealthy', which_date)\n",
    "mypath = mydict['path']\n",
    "\n",
    "# /media/jsolisle/elements/16_atom_wearable_study/01_analysis/cemrghealthy-data-2024-05-08/wearable\n",
    "only_files = [f for f in os.listdir(mypath) if os.path.isfile(os.path.join(mypath, f))]\n",
    "\n",
    "df = pd.DataFrame(mydict, index=[0])\n",
    "print(df.keys().to_list())"
   ]
  },
  {
   "cell_type": "code",
   "execution_count": null,
   "metadata": {},
   "outputs": [],
   "source": [
    "import os\n",
    "import matplotlib.pyplot as plt\n",
    "import cemrg_wearable.plot_utils as pltu \n",
    "import cemrg_wearable.common as common \n",
    "\n",
    "data_path = '/media/jsolisle/elements/16_atom_wearable_study/01_analysis'\n",
    "which_date = '2024-05-08'\n",
    "\n",
    "files_dict = common.get_name(data_path, 'cemrghealthy', which_date)\n",
    "mypath = files_dict['path']\n",
    "\n",
    "# /media/jsolisle/elements/16_atom_wearable_study/01_analysis/cemrghealthy-data-2024-05-08/wearable\n",
    "only_files = [f for f in os.listdir(mypath) if os.path.isfile(os.path.join(mypath, f))]\n",
    "key_list = common.get_data_keys()\n",
    "\n",
    "for casenum in range(1,5) :\n",
    "    Subject = 'Case{:03d}'.format(casenum)\n",
    "    fig, axs = plt.subplots(1, 5, figsize=(20, 5))\n",
    "\n",
    "    for key in key_list:\n",
    "        f=files_dict[key]\n",
    "        timestr=common.get_time_col_name(key)\n",
    "        ycol=key\n",
    "        which_file = os.path.join(mypath, f)\n",
    "        pltu.plot_data(filein=which_file, subject=Subject, timestr=timestr, ycol=ycol, ax1=axs[key_list.index(key)], remove_zero=True, fig1=fig)\n"
   ]
  },
  {
   "cell_type": "markdown",
   "metadata": {},
   "source": [
    "# Weather data! \n",
    "You need to get your API key! \n",
    "\n",
    "> NOTE! It is not good practice to leave the API key on github! \n",
    "\n",
    "Get your API key from [here](https://openweathermap.org/appid), then save it in a file called `apikey.txt`, \n",
    "which **will only be available in your computer**! That name is ignored by git. \n",
    "\n",
    "Then you can call the function `weather_utils.get_weather()`. See below  \n",
    "for an example."
   ]
  },
  {
   "cell_type": "code",
   "execution_count": null,
   "metadata": {},
   "outputs": [],
   "source": [
    "import os\n",
    "import pandas as pd\n",
    "\n",
    "import cemrg_wearable.common as common \n",
    "import cemrg_wearable.weather_utils as wu\n",
    "import datetime\n",
    "\n",
    "# read api key from file in root folder\n",
    "wd = os.path.dirname(os.getcwd())\n",
    "api_key_file = os.path.join(wd, 'apikey.txt')\n",
    "with open(api_key_file, 'r') as f:\n",
    "    api_key = f.readline()\n",
    "\n",
    "data_path = '/media/jsolisle/elements/16_atom_wearable_study/01_analysis'\n",
    "which_date = '2024-05-08'\n",
    "\n",
    "files_dict = common.get_name(data_path, 'cemrghealthy', which_date)\n",
    "mypath = files_dict['path']\n",
    "\n",
    "# /media/jsolisle/elements/16_atom_wearable_study/01_analysis/cemrghealthy-data-2024-05-08/wearable\n",
    "only_files = [f for f in os.listdir(mypath) if os.path.isfile(os.path.join(mypath, f))]\n",
    "\n",
    "subject = 'Case002'\n",
    "key_list = common.get_data_keys()\n",
    "\n",
    "f=files_dict['LATITUDE']\n",
    "which_file=os.path.join(mypath, f)\n",
    "timestr=common.get_time_col_name('LATITUDE')\n",
    "ycol='LATITUDE'\n",
    "\n",
    "df = pd.read_csv(which_file)\n",
    "casedf = df[df['SUBJECT CODE']==subject] \n",
    "\n",
    "lat = casedf['LATITUDE'][0]\n",
    "lon = casedf['LONGITUDE'][0]\n",
    "mydate = casedf['STARTDATE'][0]\n",
    "\n",
    "mydate = mydate.split('T')[0]\n",
    "date = datetime.datetime.strptime(mydate, '%Y-%m-%d')\n",
    "print(date)\n",
    "\n",
    "date = pd.to_datetime(casedf['ENDDATE'].str[0:16], format='mixed', utc=True, dayfirst=True)\n",
    "print(date)\n",
    "\n",
    "weather_data = wu.get_weather(api_key, lat, lon, date[0])\n",
    "\n",
    "print(weather_data['main'])\n",
    "\n"
   ]
  },
  {
   "cell_type": "code",
   "execution_count": null,
   "metadata": {},
   "outputs": [],
   "source": [
    "# weather_data\n",
    "# print(pd.to_datetime(casedf['ENDDATE'].str[0:16], format='mixed', utc=True, dayfirst=True))\n",
    "\n",
    "casedf"
   ]
  }
 ],
 "metadata": {
  "kernelspec": {
   "display_name": "cemrg_wearable",
   "language": "python",
   "name": "python3"
  },
  "language_info": {
   "codemirror_mode": {
    "name": "ipython",
    "version": 3
   },
   "file_extension": ".py",
   "mimetype": "text/x-python",
   "name": "python",
   "nbconvert_exporter": "python",
   "pygments_lexer": "ipython3",
   "version": "3.11.9"
  }
 },
 "nbformat": 4,
 "nbformat_minor": 2
}
